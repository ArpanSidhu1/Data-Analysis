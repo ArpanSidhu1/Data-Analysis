{
 "cells": [
  {
   "cell_type": "code",
   "execution_count": 3,
   "id": "57d68274",
   "metadata": {},
   "outputs": [
    {
     "name": "stdout",
     "output_type": "stream",
     "text": [
      "(891, 12)\n",
      "Index(['PassengerId', 'Survived', 'Pclass', 'Name', 'gender', 'Age', 'SibSp',\n",
      "       'Parch', 'Ticket', 'Fare', 'Cabin', 'Embarked'],\n",
      "      dtype='object')\n"
     ]
    }
   ],
   "source": [
    "import pandas as pd\n",
    "df=pd.read_csv(\"D:\\\\python\\\\dataset\\\\titanic.csv\")\n",
    "print(df.shape)\n",
    "print(df.columns)"
   ]
  },
  {
   "cell_type": "code",
   "execution_count": 9,
   "id": "85ff3323",
   "metadata": {},
   "outputs": [
    {
     "name": "stdout",
     "output_type": "stream",
     "text": [
      "   PassengerId  Survived  Pclass  gender   Age  SibSp     Fare\n",
      "0            1         0       3    male  22.0      1   7.2500\n",
      "1            2         1       1  female  38.0      1  71.2833\n",
      "2            3         1       3  female  26.0      0   7.9250\n",
      "3            4         1       1  female  35.0      1  53.1000\n",
      "4            5         0       3    male  35.0      0   8.0500\n"
     ]
    }
   ],
   "source": [
    "t=[\"Name\",\"Parch\",\"Ticket\",\"Embarked\",\"Cabin\"]\n",
    "#df.drop(t,axis=1,inplace=True)\n",
    "print(df.head())"
   ]
  },
  {
   "cell_type": "code",
   "execution_count": 18,
   "id": "6887168c",
   "metadata": {},
   "outputs": [
    {
     "name": "stdout",
     "output_type": "stream",
     "text": [
      "Survival Rate on the Titanic Ship :  38 %\n"
     ]
    }
   ],
   "source": [
    "t=df[df.Survived==1].shape[0]\n",
    "#print(t)\n",
    "#print(df.shape[0])\n",
    "print(\"Survival Rate on the Titanic Ship : \",342*100//891,\"%\")"
   ]
  },
  {
   "cell_type": "code",
   "execution_count": 32,
   "id": "75f0af5b",
   "metadata": {},
   "outputs": [
    {
     "name": "stdout",
     "output_type": "stream",
     "text": [
      "Index(['PassengerId', 'Survived', 'Pclass', 'gender', 'Age', 'SibSp', 'Fare'], dtype='object')\n"
     ]
    }
   ],
   "source": [
    "M=df[(df.Survived==1) & (df.gender==\"male\")].shape[0]\n",
    "F=df[(df.Survived==1) & (df.gender==\"female\")].shape[0]\n",
    "#print(M) - 109 \n",
    "#print(F) - 233\n",
    "TM=df[df.gender==\"male\"].shape[0]\n",
    "TF=df[df.gender==\"female\"].shape[0]\n",
    "#print(TM) - 577\n",
    "#print(TF)  - 314\n",
    "#print(\"Survival rate of Males : \",109*100//577,\"%\")\n",
    "#print(\"Survival rate of Females : \",233*100//314,\"%\")\n",
    "print(df.columns)"
   ]
  },
  {
   "cell_type": "code",
   "execution_count": 40,
   "id": "403321a1",
   "metadata": {},
   "outputs": [
    {
     "name": "stdout",
     "output_type": "stream",
     "text": [
      "216\n",
      "184\n",
      "491\n",
      "Survival Rate in First Class  :  62 %\n",
      "Survival Rate in Second Class :  47 %\n",
      "Survival Rate in Third Class  :  24 %\n"
     ]
    }
   ],
   "source": [
    "p_s=df[(df.Survived==1) & (df.Pclass==1)].shape[0]\n",
    "#print(p_g) - 136 Survived in First Class.\n",
    "p_s2=df[(df.Survived==1) & (df.Pclass==2)].shape[0]\n",
    "#print(p_s2) - 87 Survived in Second Class.\n",
    "p_s3=df[(df.Survived==1) & (df.Pclass==3)].shape[0]\n",
    "#print(p_s3)  - 119 Survived in Third Class.\n",
    "print(df[df.Pclass==1].shape[0]) # total Passenger\n",
    "print(df[df.Pclass==2].shape[0])\n",
    "print(df[df.Pclass==3].shape[0])\n",
    "print(\"Survival Rate in First Class  : \",136*100//216,\"%\")\n",
    "print(\"Survival Rate in Second Class : \",87*100//184,\"%\")\n",
    "print(\"Survival Rate in Third Class  : \",119*100//491,\"%\")"
   ]
  },
  {
   "cell_type": "code",
   "execution_count": 49,
   "id": "2bf4668e",
   "metadata": {},
   "outputs": [
    {
     "data": {
      "image/png": "[encoded data removed]",
      "text/plain": [
       "<Figure size 640x480 with 1 Axes>"
      ]
     },
     "metadata": {},
     "output_type": "display_data"
    }
   ],
   "source": [
    "import matplotlib.pyplot as plt\n",
    "plt.hist(df['Age'], bins=20,color=\"red\",edgecolor=\"k\")\n",
    "plt.xlabel('Age',fontsize=14)\n",
    "plt.ylabel('Count',fontsize=14)\n",
    "plt.title('Age Distribution on Titanic')\n",
    "plt.savefig(\"D:\\\\Age_distribution.jpeg\")\n",
    "plt.show()"
   ]
  },
  {
   "cell_type": "code",
   "execution_count": 3,
   "id": "d08b9375",
   "metadata": {},
   "outputs": [
    {
     "name": "stdout",
     "output_type": "stream",
     "text": [
      "Index(['PassengerId', 'Survived', 'Pclass', 'Name', 'gender', 'Age', 'SibSp',\n",
      "       'Parch', 'Ticket', 'Fare', 'Cabin', 'Embarked'],\n",
      "      dtype='object')\n",
      "(891, 12)\n"
     ]
    }
   ],
   "source": [
    "import pandas as pd\n",
    "df=pd.read_csv(\"D:\\\\python\\\\dataset\\\\titanic.csv\")\n",
    "print(df.columns)\n",
    "print(df.shape)"
   ]
  },
  {
   "cell_type": "code",
   "execution_count": 11,
   "id": "1a5708a3",
   "metadata": {},
   "outputs": [
    {
     "name": "stdout",
     "output_type": "stream",
     "text": [
      "   PassengerId  Survived  Pclass  gender   Age  SibSp     Fare\n",
      "0            1         0       3    male  22.0      1   7.2500\n",
      "1            2         1       1  female  38.0      1  71.2833\n",
      "2            3         1       3  female  26.0      0   7.9250\n",
      "3            4         1       1  female  35.0      1  53.1000\n",
      "4            5         0       3    male  35.0      0   8.0500\n"
     ]
    }
   ],
   "source": [
    "l=[\"Parch\",\"Ticket\",\"Cabin\",\"Embarked\"]\n",
    "df.drop(\"Name\",axis=1,inplace=True)\n",
    "print(df.head(5))"
   ]
  },
  {
   "cell_type": "code",
   "execution_count": 38,
   "id": "56c1caf0",
   "metadata": {},
   "outputs": [
    {
     "name": "stdout",
     "output_type": "stream",
     "text": [
      "Pclass\n",
      "1    216\n",
      "2    184\n",
      "3    491\n",
      "Name: Pclass, dtype: int64\n"
     ]
    },
    {
     "data": {
      "image/png": "[encoded data removed]",
      "text/plain": [
       "<Figure size 640x480 with 1 Axes>"
      ]
     },
     "metadata": {},
     "output_type": "display_data"
    }
   ],
   "source": [
    "p_class=df.groupby(by=\"Pclass\")\n",
    "print(p_class.Pclass.count())\n",
    "l=[216,184,491]\n",
    "b=[\"First\",\"Second\",\"Third\"]\n",
    "import matplotlib.pyplot as plt\n",
    "plt.pie(l,labels=b,labeldistance=0.5,)\n",
    "plt.title(\"Passengers Population In Every Class\")\n",
    "plt.savefig(\"D:\\\\passenger_population.jpeg\")\n"
   ]
  },
  {
   "cell_type": "code",
   "execution_count": null,
   "id": "4e61e8a3",
   "metadata": {},
   "outputs": [],
   "source": []
  }
 ],
 "metadata": {
  "kernelspec": {
   "display_name": "Python 3 (ipykernel)",
   "language": "python",
   "name": "python3"
  },
  "language_info": {
   "codemirror_mode": {
    "name": "ipython",
    "version": 3
   },
   "file_extension": ".py",
   "mimetype": "text/x-python",
   "name": "python",
   "nbconvert_exporter": "python",
   "pygments_lexer": "ipython3",
   "version": "3.11.1"
  }
 },
 "nbformat": 4,
 "nbformat_minor": 5
}
